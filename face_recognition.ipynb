{
 "cells": [
  {
   "cell_type": "code",
   "execution_count": 1,
   "metadata": {},
   "outputs": [
    {
     "name": "stdout",
     "output_type": "stream",
     "text": [
      "Model downloaded and saved as face_recognition_sface_2021dec.onnx\n"
     ]
    }
   ],
   "source": [
    "import requests\n",
    "\n",
    "url = 'https://github.com/opencv/opencv_zoo/blob/main/models/face_recognition_sface/face_recognition_sface_2021dec.onnx?raw=true'\n",
    "local_path = 'face_recognition_sface_2021dec.onnx'\n",
    "\n",
    "response = requests.get(url)\n",
    "with open(local_path, 'wb') as f:\n",
    "    f.write(response.content)\n",
    "\n",
    "print(f'Model downloaded and saved as {local_path}')\n"
   ]
  },
  {
   "cell_type": "code",
   "execution_count": 2,
   "metadata": {},
   "outputs": [],
   "source": [
    "import cv2 as cv\n",
    "import matplotlib.pyplot as plt\n",
    "import numpy as np\n",
    "\n",
    "def visualize(input, faces, thickness=2):\n",
    "    if faces[1] is not None:\n",
    "        coords = faces[1][0].astype(np.int32)\n",
    "        cv.rectangle(input, (coords[0], coords[1]), (coords[0]+coords[2], coords[1]+coords[3]), (0, 255, 0), thickness)\n",
    "        cv.circle(input, (coords[4], coords[5]), 2, (255, 0, 0), thickness)\n",
    "        cv.circle(input, (coords[6], coords[7]), 2, (0, 0, 255), thickness)\n",
    "        cv.circle(input, (coords[8], coords[9]), 2, (0, 255, 0), thickness)\n",
    "        cv.circle(input, (coords[10], coords[11]), 2, (255, 0, 255), thickness)\n",
    "        cv.circle(input, (coords[12], coords[13]), 2, (0, 255, 255), thickness)\n",
    "\n",
    "detector = cv.FaceDetectorYN.create(\"face_detection_yunet_2023mar.onnx\",\"\",(320, 320),0.8,0.3,5000)\n",
    "recognizer = cv.FaceRecognizerSF.create(local_path,\"\")\n",
    "\n",
    "input_image = cv.imread('matin.jpg')\n",
    "input_image_copy = input_image.copy()\n",
    "height, width, _ = input_image.shape\n",
    "detector.setInputSize((width, height))\n",
    "face1 = detector.detect(input_image)\n",
    "visualize(input_image_copy, face1)\n",
    "assert face1[1] is not None, 'cannot find even a image'\n",
    "face1_crop = recognizer.alignCrop(input_image, face1[1][0])\n",
    "face1_feature = recognizer.feature(face1_crop)\n",
    "\n",
    "webcam = cv.VideoCapture('matin_face3.MP4')\n",
    "while True:\n",
    "    ok, frame = webcam.read()\n",
    "    if not ok:\n",
    "        break\n",
    "    frame = cv.flip(frame, 1)\n",
    "    frame_copy = frame.copy()\n",
    "    frame_width, frame_height = frame.shape[1],frame.shape[0]\n",
    "    detector.setInputSize((frame_width, frame_height))\n",
    "    face_frame = detector.detect(frame)\n",
    "    color = (255,0,0)\n",
    "    message = 'cannot find even an face'\n",
    "    if face_frame[1] is not None:\n",
    "        for face in face_frame[1]:\n",
    "            visualize(frame_copy,  (None, [face]))\n",
    "            face_frame_crop = recognizer.alignCrop(frame, face)\n",
    "            face_frame_feature = recognizer.feature(face_frame_crop)\n",
    "            cosine_similarity_threshold = 0.363\n",
    "            cosine_score = recognizer.match(face1_feature, face_frame_feature, cv.FaceRecognizerSF_FR_COSINE)\n",
    "            message = 'you are not matin'\n",
    "            color = (0, 0, 255)\n",
    "            if cosine_score >= cosine_similarity_threshold:\n",
    "                message = 'you are matin'\n",
    "                color = (0, 255, 0)\n",
    "            coords = face[:-1].astype(np.int32)\n",
    "            p1 = coords[0], coords[1]\n",
    "            p2 = (coords[0] + coords[2], coords[1] + coords[3])\n",
    "            cv.rectangle(frame, p1, p2, color, 3)\n",
    "            cv.putText(frame, message, (coords[0], coords[1] - 5), cv.FONT_HERSHEY_COMPLEX, 0.5, color, 2)\n",
    "            cv.putText(frame, str(cosine_score), (coords[0], coords[1] - 20), cv.FONT_HERSHEY_COMPLEX, 0.5, color, 2)\n",
    "    else:\n",
    "        cv.putText(frame,message,(30,30),cv.FONT_HERSHEY_COMPLEX,1,color,2)\n",
    "    cv.imshow('frame', frame)\n",
    "    if cv.waitKey(1) & 0xff == 27:\n",
    "        break\n",
    "\n",
    "cv.destroyAllWindows()\n",
    "webcam.release()\n"
   ]
  },
  {
   "cell_type": "code",
   "execution_count": null,
   "metadata": {},
   "outputs": [],
   "source": []
  }
 ],
 "metadata": {
  "kernelspec": {
   "display_name": "quera",
   "language": "python",
   "name": "python3"
  },
  "language_info": {
   "codemirror_mode": {
    "name": "ipython",
    "version": 3
   },
   "file_extension": ".py",
   "mimetype": "text/x-python",
   "name": "python",
   "nbconvert_exporter": "python",
   "pygments_lexer": "ipython3",
   "version": "3.12.4"
  }
 },
 "nbformat": 4,
 "nbformat_minor": 2
}
